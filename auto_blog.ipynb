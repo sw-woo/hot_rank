{
 "cells": [
  {
   "cell_type": "markdown",
   "metadata": {},
   "source": [
    "## 블로그 자동화 예 (부업)"
   ]
  },
  {
   "cell_type": "markdown",
   "metadata": {},
   "source": [
    "### 1. GitHub Pages 란\n",
    "- github 사이트는 전세계 개발자들을 위한 코드 저장소\n",
    "- 저장공간을 기반으로 개인 블로그를 만들 수 있도록 지원 (무료)"
   ]
  },
  {
   "cell_type": "markdown",
   "metadata": {},
   "source": [
    "### 2. GitHub Pages 첫 블로그 만들기\n",
    "\n",
    "1. github.com 에서 Sign-Up \n",
    "   - 참고로 기본 블로그 사이트 주소는 'sign-up 한 아이디 이름.github.io' 가 될 것임\n",
    "   - 아예 자신만의 www.fun-coding.org 처럼 별도 주소를 가질 수도 있음 (이 경우에는 도메인 주소를 구매해서 연결해야 함)\n",
    "\n",
    "2. Sign-In 후, + 버튼에서 New Repository 선택\n",
    "   - Repository Name 기입\n",
    "     - 해당 Repository 기반 블로그를 생성할 수 있음\n",
    "       - 이 때 해당 블로그 주소는 'sign-up 한 아이디 이름.github.io/' + Repository Name 이 됨\n",
    "   \n",
    "   <img src='https://www.fun-coding.org/00_Images/new_repository.jpg' width=500 />"
   ]
  },
  {
   "cell_type": "markdown",
   "metadata": {},
   "source": [
    "### 3. 초간단 Github 파일 업로드/수정 방법\n",
    "- git 은 개발자들이 코드를 업로드하는 유명한 툴, 그러나 매우 복잡\n",
    "- 개인 블로그를 위해서는 github desktop 을 사용해서, 간단하게 파일 업로드 가능\n",
    "  - https://desktop.github.com/\n",
    "  \n",
    "    1. clone repository 에서 자신의 repository 와 자신의 PC(Local Repository) 선택\n",
    "       - 현재 자신의 repository 에는 README 파일만 있을 것이므로, 해당 파일이 자신의 PC에 다운로드 됨\n",
    "         - 자신의 reponsitory 에 접속해서 현재 README 파일에 적힌 내용 확인\n",
    "         - 예: https://davelee-fun.github.io/class101\n",
    "       - 참고: clone repository 란 자신의 프로젝트 파일을 자신의 PC에 다운로드 받는다는 의미임\n",
    "         <img src=\"https://www.fun-coding.org/00_Images/clone_repository.jpg\" width=500 />\n",
    "         \n",
    "    2. github desktop 에서 clone 한 repository 선택\n",
    "    3. 자신의 PC(Local Repository) 에서 README 파일이 다운로드되었는지 확인 후, 해당 파일을 수정\n",
    "       - README 파일을 메모장등의 에디터로 오픈해서 '첫 테스트입니다' 정도의 문장을 추가 후 저장\n",
    "    4. 다시 github desktop 을 오픈한 후 다음과 같이 자신의 github repository 와 자신의 PC(Local Repository)의 다른 파일 표시를 확인\n",
    "         <img src=\"https://www.fun-coding.org/00_Images/diff_repository.jpg\" width=500 />\n",
    "    5. Commit to master 버튼을 누름\n",
    "       - 자신의 PC(Local Repository) 에 수정한 파일을 확인(컨펌)하겠다는 의미\n",
    "         - 일부 파일은 확인(컨펌)시 Summary 와 Description 을 넣어야 할 때도 있음\n",
    "           - 금번 확인(컨펌) 사항을 표시해서, 추후 확인하기 쉽게 하기 위함\n",
    "    6. Push to master 버튼을 누름\n",
    "       - 자신의 PC(Local Repository) 에 수정한 파일이 자신의 github repository 에 업로드됨\n",
    "    7. 일정 시간(약 3초) 정도 후 자신의 github repository 에 접속하여 변경된 README 파일 확인\n",
    "       - 예: https://davelee-fun.github.io/class101"
   ]
  },
  {
   "cell_type": "markdown",
   "metadata": {},
   "source": [
    "### 4. Github page 만들기\n",
    "1. 자신의 repository 에 접속\n",
    "   - 예: https://davelee-fun.github.io/class101\n",
    "2. 오른쪽 상단에 해당 repository 안의 메뉴 중, Settings 메뉴 접속\n",
    "   - GitHub Pages 탭에서 Source 를 master branch, Choose a theme 를 Cayman theme 로 선택\n",
    "   - GitHub Pages 탭 상단에 자신의 웹사이즈 주소가 보여짐 \n",
    "     - 클릭해서 자신의 페이지 확인\n",
    "     - 예: https://davelee-fun.github.io/class101/\n",
    "                \n",
    "     <img src=\"https://www.fun-coding.org/00_Images/setup_github_page.jpg\" width=500 />\n",
    "3. 다시 GitHub Desktop 으로 돌아와서, 상단에 Fetch origin 클릭\n",
    "   - github pages 설정때문에 자신의 repository 에 파일 변경 사항이 생겼을 경우, 이를 보여줌\n",
    "   - pull origin 으로 다운로드\n",
    "     <img src=\"https://www.fun-coding.org/00_Images/pull_repository.jpg\" width=500 />"
   ]
  },
  {
   "cell_type": "markdown",
   "metadata": {},
   "source": [
    "### 5. 원하는 GitHub page 만들기"
   ]
  },
  {
   "cell_type": "markdown",
   "metadata": {},
   "source": [
    "1. 테스트 페이지 만들어보기\n",
    "  - 자신의 로컬 PC의 해당 디렉토리에 post.md 파일을 다음과 같이 작성\n",
    "\n",
    "---\n",
    "```table\n",
    "# 블로그 소개\n",
    "\n",
    "본 블로그는 개인 블로그입니다. 다음과 같은 내용을 공유할 예정입니다.\n",
    "\n",
    "- 쿠팡 파트너스 상품 소개\n",
    "- 개인 판매 상품 소개\n",
    "- 개인 유투브 소개\n",
    "```\n",
    "---\n",
    "\n",
    "2. github desktop 프로그램을 사용해서 해당 파일 업로드\n",
    "3. 자신의 블로그에 해당 파일명 (확장자 제외) 까지만 작성해서 확인 (약 5초 후 접속)\n",
    "   - 예: https://davelee-fun.github.io/class101/post\n",
    "   \n",
    "4. 자신의 로컬 PC의 해당 디렉토리에 하부 디렉토리 생성\n",
    "   - post.md 파일을 해당 디렉토리에 복사\n",
    "5. github desktop 에서 Summary/Description 에 '상품소개' 작성 후, Commit + Push\n",
    "6. 자신의 블로그 주소에 해당 폴더명/post 로 접속\n",
    "   - 예: https://davelee-fun.github.io/class101/product/post"
   ]
  },
  {
   "cell_type": "markdown",
   "metadata": {},
   "source": [
    "### 6. 테마 변경하기\n",
    "1. https://jekyllthemes.io/github-pages-themes (그럴듯한 복잡한 페이지 중심) 또는 http://jekyllthemes.org/ (가벼운 페이지 중심) 접속\n",
    "   - 원하는 테마 선택하기\n",
    "   - 테스트로 본 강의에서는 https://github.com/wowthemesnet/mediumish-theme-jekyll\n",
    "2. Live Demo 로 테마 확인하기\n",
    "3. Get 테마 on GitHub 또는 Download 로 테마 다운로드 받고, 신규 테마 설정 방법대로 수정하기\n",
    "   <img src=\"https://www.fun-coding.org/00_Images/get_theme.jpg\" width=500 />\n",
    "4. 자신의 PC(Local Repository) 에서 현 폴더/파일을 모두 다른 신규폴더에 이동 후, 다운로드받고 수정한 파일을 모두 해당 폴더로 이동\n",
    "5. github desktop 으로 업로드\n",
    "6. 최소 10초 후 자신의 블로그 접속\n",
    "   - https://davelee-fun.github.io/fun_blog/"
   ]
  },
  {
   "cell_type": "markdown",
   "metadata": {},
   "source": [
    "### 참고\n",
    "- GitHub pages 는 jekyll(지킬) 템플릿을 자동으로 구성\n",
    "  - 포맷에 맞게만 올려주면, 알아서 구성해줌\n",
    "\n",
    "> jekyll(지킬) 템플릿은 GitHub CEO 가 만들었음 <br>\n",
    "> 여러가지 템플릿이 있지만, 가장 간단하고 GitHub 가 지원하는 유일한 템플릿"
   ]
  },
  {
   "cell_type": "markdown",
   "metadata": {},
   "source": [
    "### 신규 테마 설정 방법\n",
    "- 파일이 압축되었을 경우, 압축을 풀거나해서 해당 폴더로 결국 들어가면 _config.yml 파일 수정 필요\n",
    "- 특히 baseurl (자신의 프로젝트/repository 주소), url (자신의 블로그 주소) 수정\n",
    "  - 예: https://github.com/wowthemesnet/mediumish-theme-jekyll 테마 Download, 압축풀고, 해당 폴더의 _config.yml 파일 수정\n",
    "    ```\n",
    "    baseurl: \"/class101\"\n",
    "    url: \"https://davelee-fun.github.io\"\n",
    "    ```\n",
    "  \n",
    "  - 실제 _config.yml 파일\n",
    "    \n",
    "```\n",
    "title: 클래스101 업무자동화\n",
    "email: dream@fun-coding.org\n",
    "description: > # this means to ignore newlines until \"baseurl:\"\n",
    "Webjeda Cards is a Bootstrap based jekyll theme for portfolio, photography or any kind of blog.\n",
    "\n",
    "\n",
    "baseurl: \"/class101\" # the subpath of your site, e.g. /blog\n",
    "url: \"https://davelee-fun.github.io\" # the base hostname & protocol for your site\n",
    "\n",
    "#sidebar\n",
    "default-image: webjeda-logo-big.jpg # If there is no featured image in a post then this image will be s\n",
    "\n",
    "#footer\n",
    "\n",
    "built-by: webjeda\n",
    "\n",
    "copyright:\n",
    "name: Dave Lee\n",
    "link: 'https://davelee-fun.github.io'\n",
    "```\n",
    "    \n",
    "> [유료 테마는 이 사이트에서!](https://themeforest.net/category/static-site-generators/jekyll?gclid=CjwKCAjw2a32BRBXEiwAUcugiOkm34vj0trSdkmASBg7Zaxo1Sp1wZLG57jL3lX05D8YO2etPNinJBoC2UkQAvD_BwE&tags=jekyll#content)"
   ]
  },
  {
   "cell_type": "markdown",
   "metadata": {},
   "source": [
    "### 7. 이외에 필요한 부분 수정\n",
    "- 그럴듯한 템플릿일수록 많은 부분을 바꿔줘야함\n",
    "- 언더바(_)로 시작하는 파일의 내용과 웹페이지의 내용을 비교해가며 필요한 내용 교체\n",
    "  - 예: 템플릿의 다양한 이미지, 텍스트 교체 (이미지 파일이름을 다른 이름으로 변경하고, 해당 파일을 동일 폴더에 업로드)\n",
    "\n",
    "> 세부적인 부분을 모두 바꿔주는 것은 하나의 자신만의 홈페이지를 만드는 것과 동일하게 HTML, CSS등을 모두 수정, 추가 문법 이해 필요 <br>\n",
    "> (업무자동화 강의에서 다룰 수 있는 최대한의 범위까지 설명드림) "
   ]
  },
  {
   "cell_type": "markdown",
   "metadata": {},
   "source": [
    "### 7.1. 상세 페이지 추가/수정\n",
    "  - _post 폴더에 있는 파일이 실제 각 페이지 파일임\n",
    "  - 해당 폴더에 있는 파일을 파일명 포멧에 맞추어 생성 또는 수정 가능\n",
    "  - **해당 md 파일 포맷에 맞게 수정 또는 신규 md 파일 생성**, 이 부분이 핵심, 자동으로 md 파일을 파이썬으로 작성하면 됨 "
   ]
  },
  {
   "cell_type": "markdown",
   "metadata": {},
   "source": [
    "### 참고: 블로그 파일 (md) 의 헤더 포맷\n",
    "\n",
    "> Front Matter 라는 포맷을 사용 <br>\n",
    "> YAML 이라는 문법으로 구성되며, 헤더 이외의 실제 내용 부분은 마크다운을 사용함 "
   ]
  },
  {
   "cell_type": "markdown",
   "metadata": {},
   "source": [
    "```yaml\n",
    "---\n",
    "layout: post // post, page 중 하나를 넣음. post 는 블로그 포스트, page 는 홈페이지를 구성하는 페이지 를 의미함\n",
    "title:  \"행거도어 관련 상품 추천\" // 제목\n",
    "author: teddy // 저자\n",
    "categories: [ 가구/인테리어 ] // 어느 페이지에 속하는지를 의미함\n",
    "tags: [행거도어,행거도어 상세도,행거도어 dwg,행거도어 열관류율,행거도어 부속] // 태그 지정 가능\n",
    "image: https://static.coupangcdn.com/image/retail/images/801709134030-6cb87ab3-af7f-4ebe-becc-25f762d24c3a.jpg // 또는 img 등 메인 페이지등에 표시되는 블로그 대표 이미지를 의미함 \n",
    "description: \"행거도어 관련 상품 추천, 상품 이름\"\n",
    "---\n",
    "```"
   ]
  },
  {
   "cell_type": "markdown",
   "metadata": {},
   "source": [
    "### 7.2 이미지는 추가/수정\n",
    "  - 각 템플릿마다 폴더가 다르기 때문에 _post 에 있는 md 파일을 살펴보며 해당 파일에 기재되어 있는 이미지가 어느 폴더에 있는지 확인\n",
    "  - 해당 폴더에 이미지 파일 추가 및 생성하는 md 파일에 이미지 기재가능"
   ]
  },
  {
   "cell_type": "markdown",
   "metadata": {},
   "source": [
    "### 참고: 폴더 구조와 Jekyll\n",
    "\n",
    "#### Jekyll 란?\n",
    "- Jekyll은 ruby 라는 프로그래밍 언어를 기반으로 만들어진 손쉽게 블로그 스타일의 사이트를 생성해주는 도구\n",
    "- 사용자들은 markdown 기반으로 블로그를 간단히 작성하기만 하면, 웹페이지로 변환해서 운영 가능\n",
    "\n",
    "#### Jekyll 디렉토리 구조\n",
    "- Jakyll 디렉토리 구조를 보면 보통 아래와 같은 디렉토리들을 가지고 있다.\n",
    "\n",
    "  - _includes : footer, header 등 html 상단부와 하단부 템플릿\n",
    "  - _layout : 페이지 생성 기본 템플릿\n",
    "  - _posts : markdown(.md) 블로그글이 저장된 디렉토리\n",
    "  - _sass (또는 assets/css) : css 모음 \n",
    "  - assets/img : 이미지 파일 모음"
   ]
  },
  {
   "cell_type": "markdown",
   "metadata": {},
   "source": [
    "### 8. 주요 마크다운 문법"
   ]
  },
  {
   "cell_type": "markdown",
   "metadata": {},
   "source": [
    "# Hello markdown1\n",
    "## Hello markdown2\n",
    "### Hello markdown3\n",
    "#### Hello markdown4\n",
    "\n",
    "* python language\n",
    "  * java language \n",
    "  * c++ \n",
    "  * c#\n",
    "* python 1\n",
    "* python 2\n",
    "\n",
    "> Blockquotes starts\n",
    "> This line is part of the same quote.\n",
    "\n",
    "> Good\n",
    "\n",
    "\n",
    "\n",
    "This is *python*\n",
    "\n",
    "This is **python**\n",
    "\n",
    "This is python\n",
    "\n",
    "[python webpage](https://www.python.org)\n",
    "\n",
    "[google page](https://google.com)\n",
    "\n",
    "\n",
    "---\n",
    " * 이것은 웹 이미지\n",
    "![python image2](https://www.raspberrypi.org/documentation/usage/python/images/python-logo.png)"
   ]
  },
  {
   "cell_type": "markdown",
   "metadata": {},
   "source": [
    "### 9. 추척과 커뮤니티 기능 활성화\n",
    "\n",
    "> 누가 방문했을까? 어디를 클릭했을까! 댓글을 혹시라도 쓰는 사람이 있다면? \n"
   ]
  },
  {
   "cell_type": "markdown",
   "metadata": {},
   "source": [
    "### 9.1. Google Analytics 가입\n",
    "- https://analytics.google.com/\n",
    "- 관리 > 추적 정보 > 추적 코드 메뉴에서 추적 ID 해당 코드 복사"
   ]
  },
  {
   "cell_type": "markdown",
   "metadata": {},
   "source": [
    "#### _config.yml 파일에서 google_analytics 에 추적 ID 넣어줌\n",
    "```yml\n",
    "google_analytics: 'UA-~~~~~'\n",
    "```"
   ]
  },
  {
   "cell_type": "markdown",
   "metadata": {},
   "source": [
    "### 9.2. disqus 가입\n",
    "  - https://disqus.com/\n",
    "- Your Site -> New 로 사이트 입력\n",
    "- 오른쪽 상단에 Settings -> Admin -> 당신의 사이트 선택 -> Settings -> General \n",
    "  - Your website shortname is 다음 부분을 복사 (. 은 제외)"
   ]
  },
  {
   "cell_type": "markdown",
   "metadata": {},
   "source": [
    "#### _config.yml 파일에서 disqus 에 해당 부분을 넣어줌\n",
    "```yml\n",
    "disqus: 'test~~~~~~'\n",
    "```"
   ]
  },
  {
   "cell_type": "markdown",
   "metadata": {},
   "source": [
    "### 10. 자동 블로그 예"
   ]
  },
  {
   "cell_type": "markdown",
   "metadata": {},
   "source": [
    "### 10.1. 카테고리별 인기 검색어 가져오기\n",
    "- 이 부분은 예로만 보여드립니다.\n",
    "  - 동일하게 하면 동일한 상품을 각각의 블로그들이 추천하는 상황이 옵니다.\n",
    "- 엑셀에 원하는 검색어를 넣어서, 해당 파일을 읽어서 해보시거나, 특정 검색어를 직접 리스트로 만들어서 호출하세요\n",
    "\n",
    "> 주요 키워드 제시 사이트는 많습니다."
   ]
  },
  {
   "cell_type": "code",
   "execution_count": null,
   "metadata": {},
   "outputs": [],
   "source": [
    "from selenium import webdriver\n",
    "from selenium.webdriver.common.by import By\n",
    "from selenium.webdriver.support.ui import WebDriverWait\n",
    "from selenium.webdriver.support import expected_conditions as EC\n",
    "import time\n",
    "\n",
    "def get_category_popular_keyword_naver(category_num):\n",
    "    driver = webdriver.Chrome('./chromedriver')\n",
    "    driver.get('https://datalab.naver.com/')\n",
    "\n",
    "    return_data = list()\n",
    "    select_list = WebDriverWait(driver, 3).until(EC.presence_of_element_located((By.CSS_SELECTOR, \".select_btn\")))\n",
    "    select_list.click()\n",
    "    time.sleep(1) # 로그인 후의 페이지 로딩을 위해, 1초정도 기다리면 좋음\n",
    "\n",
    "    select_item = WebDriverWait(driver, 3).until(EC.presence_of_element_located((By.CSS_SELECTOR, \"div.select.depth._dropdown > ul > li:nth-child(\" + str(category_num) + \") > a\")))\n",
    "    select_item.click()\n",
    "    time.sleep(2) # 로그인 후의 페이지 로딩을 위해, 1초정도 기다리면 좋음\n",
    "\n",
    "    datas1 = driver.find_elements_by_css_selector(\"div.keyword_rank div.rank_scroll li.list span.title\")\n",
    "    for item in datas1:\n",
    "        return_data.append(item.text)\n",
    "\n",
    "    driver.quit()\n",
    "    return return_data[-10:]"
   ]
  },
  {
   "cell_type": "markdown",
   "metadata": {},
   "source": [
    "### 10.2. 인기 검색어 기반 구글 검색자의 연관 키워드 가져오기"
   ]
  },
  {
   "cell_type": "code",
   "execution_count": null,
   "metadata": {},
   "outputs": [],
   "source": [
    "import requests\n",
    "from bs4 import BeautifulSoup\n",
    "\n",
    "def get_related_keyword_google(keyword):\n",
    "    return_data = list()\n",
    "    google_related_keyword_api = 'http://suggestqueries.google.com/complete/search?output=toolbar&q=' + keyword\n",
    "    response = requests.get(google_related_keyword_api)\n",
    "    soup = BeautifulSoup(response.content, 'xml')\n",
    "\n",
    "    datas1 = soup.select('suggestion')\n",
    "\n",
    "    for item in datas1:\n",
    "        return_data.append(item['data'])\n",
    "        \n",
    "    return return_data"
   ]
  },
  {
   "cell_type": "markdown",
   "metadata": {},
   "source": [
    "### 10.2. 인기 검색어를 구글 연관 검색어로 가져와서, 이 중에서 쇼핑인사이트에서 고객이 검색하는 검색어로 가져옴"
   ]
  },
  {
   "cell_type": "code",
   "execution_count": null,
   "metadata": {},
   "outputs": [],
   "source": [
    "import settings\n",
    "import requests\n",
    "\n",
    "client_id = settings.NAVER_CLIENT_ID # API access key\n",
    "client_secret = settings.NAVER_CLIENT_SECRET # API secret key\n",
    "naver_shpping_category_insight_api = 'https://openapi.naver.com/v1/datalab/shopping/category/keywords'\n",
    "def naver_shopping_api_template(naver_open_api, body):\n",
    "    header_params = {\"X-Naver-Client-Id\":client_id, \"X-Naver-Client-Secret\":client_secret, \"Content-Type\":\"application/json\"}\n",
    "    res = requests.post(naver_open_api, headers=header_params, data=body.encode(\"utf-8\"))\n",
    "    if res.status_code == 200:\n",
    "        return res.json()\n",
    "    else:\n",
    "        return None"
   ]
  },
  {
   "cell_type": "markdown",
   "metadata": {},
   "source": [
    "- 인기 검색어를 그대로 쓰면, 너무 많은 웹페이지로 검색이 안되므로,\n",
    "- 구글 기반이므로 구글에서 쓰는 연관 검색어 중, \n",
    "- 국내에서 가장 많이 쓰는 네이버 쇼핑을 통해 고객이 검색해서 상품을 구매할만한 연관 키워드를 가져옴\n",
    "\n",
    "> 일종의 자동 키워드 분석 및 변환"
   ]
  },
  {
   "cell_type": "code",
   "execution_count": null,
   "metadata": {},
   "outputs": [],
   "source": [
    "def generate_data(data_json):\n",
    "    keyword_datas = list()\n",
    "    for item in data_json['results']:\n",
    "        keyword_data = list()\n",
    "\n",
    "        keyword_data_ratio = 0\n",
    "        for item2 in item['data']:\n",
    "            keyword_data_ratio += item2['ratio']\n",
    "\n",
    "        keyword_data.append(keyword_data_ratio)\n",
    "        keyword_data.append(item['title'])\n",
    "\n",
    "        keyword_datas.append(keyword_data)\n",
    "\n",
    "    keyword_datas.sort(reverse=True)\n",
    "    print (keyword_datas)\n",
    "    return keyword_datas[1][1]"
   ]
  },
  {
   "cell_type": "markdown",
   "metadata": {},
   "source": [
    "### 10.3. 쿠팡 파트너스로 키워드별 최상위 상품 정보와 회원 트래킹 코드가 포함된 URL 가져오기"
   ]
  },
  {
   "cell_type": "code",
   "execution_count": null,
   "metadata": {},
   "outputs": [],
   "source": [
    "import hmac\n",
    "import hashlib\n",
    "import binascii\n",
    "import os\n",
    "import time\n",
    "import requests\n",
    "import json\n",
    "import urllib\n",
    "\n",
    "access_key = settings.COUPANG_ACCESS_KEY # API access key\n",
    "secret_key = settings.COUPANG_SECRET_KEY # API secret key\n",
    "request_method = \"GET\"\n",
    "request_domain = \"https://api-gateway.coupang.com\"\n",
    "request_data = ''\n",
    "\n",
    "# 가이드 문서대로 authorization 정보는 별도 함수로 그대로 선언합니다.\n",
    "def generateHmac(method, url, secretKey, accessKey):\n",
    "    path, *query = url.split(\"?\")\n",
    "    os.environ[\"TZ\"] = \"GMT+0\"\n",
    "    datetime = time.strftime('%y%m%d')+'T'+time.strftime('%H%M%S')+'Z'\n",
    "    message = datetime + method + path + (query[0] if query else \"\")\n",
    "\n",
    "    signature = hmac.new(bytes(secretKey, \"utf-8\"),\n",
    "                         message.encode(\"utf-8\"),\n",
    "                         hashlib.sha256).hexdigest()\n",
    "\n",
    "    return \"CEA algorithm=HmacSHA256, access-key={}, signed-date={}, signature={}\".format(accessKey, datetime, signature)\n",
    "\n",
    "# 가이드 문서대로 내부 코드를 적되, 다양한 API에 대응 가능토록 일부만 변경\n",
    "def coupang_partners_template(partners_domain, partners_api, partners_method, authorization, request_data):\n",
    "    request_url = \"{}{}\".format(partners_domain, partners_api)\n",
    "    response = requests.request(method=partners_method, url=request_url,\n",
    "                                headers={\n",
    "                                    \"Authorization\": authorization,\n",
    "                                    \"Content-Type\": \"application/json\"\n",
    "                                },\n",
    "                                data=json.dumps(request_data)\n",
    "                                )\n",
    "    return response.json()"
   ]
  },
  {
   "cell_type": "code",
   "execution_count": null,
   "metadata": {},
   "outputs": [],
   "source": [
    "def coupange_partners_search(keyword):\n",
    "    return_data = list()\n",
    "    limit = 30\n",
    "    partners_url = \"/v2/providers/affiliate_open_api/apis/openapi/products/search?keyword=\" \n",
    "    partners_url += urllib.parse.quote(keyword) + \"&limit=\" + str(limit)\n",
    "\n",
    "    authorization = generateHmac(request_method, partners_url, secret_key, access_key)\n",
    "    data_json = coupang_partners_template(request_domain, partners_url, request_method, authorization, request_data)\n",
    "    datas1 = data_json['data']['productData']\n",
    "    for item in datas1:\n",
    "        coupang_product_details = get_details_product_template(item['productUrl'])\n",
    "        return_data_item = [item['productName'], item['productImage'], item['productUrl'], coupang_product_details[4]]\n",
    "        return_data.append(return_data_item)\n",
    "    \n",
    "    return return_data"
   ]
  },
  {
   "cell_type": "markdown",
   "metadata": {},
   "source": [
    "### 10.4. 각 상품 상세 이미지 가져오기"
   ]
  },
  {
   "cell_type": "code",
   "execution_count": null,
   "metadata": {},
   "outputs": [],
   "source": [
    "from selenium import webdriver\n",
    "from selenium.webdriver.common.by import By\n",
    "from selenium.webdriver.support.ui import WebDriverWait\n",
    "from selenium.webdriver.support import expected_conditions as EC\n",
    "import time \n",
    "\n",
    "img_global = 0\n",
    "\n",
    "def get_details_product_template(url):\n",
    "    print (url)\n",
    "    # 각 PC 환경에 맞게 수정 필요\n",
    "    driver_location = './chromedriver'\n",
    "    css_selector_title = 'h2.prod-buy-header__title'\n",
    "    css_selector_price = 'div.prod-coupon-price.prod-major-price > span.total-price > strong'\n",
    "    css_selector_ori_price = 'div.prod-sale-price > span.total-price > strong'    \n",
    "    css_selector_img = 'div.product-detail-content-inside div.subType-IMAGE > img'\n",
    "    img_path = '/Users/davelee/class101_autopython/00_coupang_product_imgs'\n",
    "    vendoritemid = url.split('=')[4].split('&')[0]\n",
    "    \n",
    "    return_data = list()\n",
    "    return_data.append(vendoritemid)\n",
    "    \n",
    "    driver = webdriver.Chrome(driver_location)\n",
    "    driver.get(url)\n",
    "    time.sleep(3)\n",
    "\n",
    "    titles = driver.find_elements_by_css_selector(css_selector_title)\n",
    "    for item in titles:\n",
    "        return_data.append(item.text)\n",
    "\n",
    "    prices = driver.find_elements_by_css_selector(css_selector_price)\n",
    "    for item in prices:\n",
    "        if item.text == '':\n",
    "            prices = driver.find_elements_by_css_selector(css_selector_ori_price)\n",
    "            for item2 in prices:\n",
    "                return_data.append(item2.text)\n",
    "        else:\n",
    "            return_data.append(item.text)\n",
    "\n",
    "    return_data.append(url)\n",
    "    try:\n",
    "        img = driver.find_element_by_css_selector(css_selector_img)\n",
    "        return_data.append(img.get_attribute('src'))\n",
    "    except:\n",
    "        try:\n",
    "            img = driver.find_elements_by_css_selector('div.product-detail-content-inside div.subType-TEXT img')\n",
    "            return_data.append(img.get_attribute('src'))\n",
    "        except:\n",
    "            return_data.append(None)\n",
    "\n",
    "    driver.quit()\n",
    "    return return_data"
   ]
  },
  {
   "cell_type": "markdown",
   "metadata": {},
   "source": [
    "### 10.5. 블로그 포스팅 템플릿\n",
    "- 원하시는대로 기본 구조를 수정하세요"
   ]
  },
  {
   "cell_type": "code",
   "execution_count": null,
   "metadata": {},
   "outputs": [],
   "source": [
    "import datetime\n",
    "import os\n",
    "\n",
    "def generate_blog_basic(product_infos, main_keyword, search_keyword):\n",
    "    print (product_infos, product_infos[3], main_keyword, search_keyword)\n",
    "    basic_folder = '/Users/davelee/OneDrive - 고려대학교/00_Development/github_blog/class101/_posts/'\n",
    "    today_date = datetime.date.today()\n",
    "    today_date = today_date.strftime('%Y-%m-%d')\n",
    "    \n",
    "    for product_info in product_infos:\n",
    "        print ('\\n')\n",
    "        print (product_info)\n",
    "        blog_basic_template = '''---\n",
    "layout: post\n",
    "title:  \"''' + main_keyword + ''' 관련 상품 추천\"''' + '''\n",
    "author: teddy\n",
    "categories: [ 가구/인테리어 ]\n",
    "tags: [''' + search_keyword + ''']\n",
    "image: ''' + product_info[1] + ''' \n",
    "description: \"쿠팡에서 ''' + main_keyword + ''' 관련 상품으로 가장 고객 선호도가 높은 제품 중 하나입니다.\"\n",
    "---\n",
    "\n",
    "<a href=\"''' + product_info[2] + '''\"><b>상품명: <font color='#01579B'>''' + product_info[0] + '''</font></b></a>\n",
    "\n",
    "좋은 상품만 선별해서 추천드리고 있습니다.\n",
    "본 상품은 쿠팡에서 \"''' + main_keyword + '''\" 와 관련해서, 고객 만족도, 노출 대비 판매율, 선호도가 가장 높은 제품 중의 하나입니다.\n",
    "구매하셨을 때, 크게 후회가 되지 않을 상품으로 보시면 됩니다. \n",
    "다음 이미지를 클릭하시면 해당 상품에 대한 상세 내용을 보실 수 있습니다.\n",
    "\n",
    "바쁘시다면, 추천 이유로 좀더 요약해서 설명드렸으니, 참고 부탁드립니다.\n",
    "\n",
    "## 추천 이유 \n",
    "'''\n",
    "        if product_info[3] != None:\n",
    "            blog_basic_template += '''\n",
    "<a href=\"''' + product_info[2] + '''\"><img src=\"''' + product_info[3] + '''\"></a> \n",
    "'''\n",
    "        else:\n",
    "            blog_basic_template += '''\n",
    "<a href=\"''' + product_info[2] + '''\">''' + product_info[0] + '''</a>'''\n",
    "            \n",
    "        blog_basic_template += '''\n",
    "본 블로그는 파트너스 활동을 통해 일정액의 수수료를 제공받을 수 있습니다.\n",
    "''' + '''\n",
    "## 참고: 관련 검색어    \n",
    "''' + search_keyword \n",
    "    \n",
    "        file_count = sum([len(files) for r, d, files in os.walk('/Users/davelee/OneDrive - 고려대학교/00_Development/github_blog/class101/_posts/')])\n",
    "        data_file = open(basic_folder + today_date + '-product' + '-' + str(file_count) + '.md', 'w', encoding='utf-8-sig')\n",
    "        data_file.write(blog_basic_template)\n",
    "        data_file.close()"
   ]
  },
  {
   "cell_type": "markdown",
   "metadata": {},
   "source": [
    "### 10.6. 자동 블로그 생성 코드"
   ]
  },
  {
   "cell_type": "code",
   "execution_count": null,
   "metadata": {},
   "outputs": [],
   "source": [
    "import json\n",
    "import pickle\n",
    "\n",
    "def create_blog(keywords):\n",
    "    result_data = list()\n",
    "    for item in keywords:\n",
    "        body = {\n",
    "          \"startDate\": \"2020-01-01\",\n",
    "          \"endDate\": \"2020-05-01\",\n",
    "          \"timeUnit\": \"month\",\n",
    "          \"category\": \"50000004\",\n",
    "          \"keyword\": [],\n",
    "          \"device\": \"\",\n",
    "          \"gender\": \"\",\n",
    "          \"ages\": [ ]\n",
    "        }\n",
    "        related_keyword = get_related_keyword_google(item)[:5]\n",
    "        for item2 in related_keyword:\n",
    "            data_dict = dict()\n",
    "            data_dict['name'] = item2\n",
    "            data_list = list()\n",
    "            data_list.append(item2)\n",
    "            data_dict['param'] = data_list\n",
    "            body['keyword'].append(data_dict)\n",
    "        body = json.dumps(body)\n",
    "        data_json = naver_shopping_api_template(naver_shpping_category_insight_api, body)\n",
    "        if data_json != None:\n",
    "            result_data.append(data_json)\n",
    "\n",
    "    for item in result_data:\n",
    "        print (item)\n",
    "        suggested_keyword = generate_data(item)\n",
    "        with open('created_keywords.pickle', 'rb') as pickle_filename:\n",
    "            created_keywords = pickle.load(pickle_filename)\n",
    "        print (created_keywords, suggested_keyword, len(created_keywords.intersection(suggested_keyword)))\n",
    "        if len(created_keywords.intersection(suggested_keyword)) == 0:\n",
    "            product_infos = coupange_partners_search(suggested_keyword)\n",
    "            data = get_related_keyword_google(suggested_keyword)\n",
    "            search_keyword = ','.join(data)\n",
    "            generate_blog_basic(product_infos, suggested_keyword, search_keyword)\n",
    "            created_keywords.add(suggested_keyword)\n",
    "            with open('created_keywords.pickle', 'wb') as pickle_filename:\n",
    "                pickle.dump(created_keywords, pickle_filename)"
   ]
  },
  {
   "cell_type": "markdown",
   "metadata": {},
   "source": [
    "## 10.7. 최종 실행"
   ]
  },
  {
   "cell_type": "markdown",
   "metadata": {},
   "source": [
    "### 최초 실행시에만 pickle 생성"
   ]
  },
  {
   "cell_type": "code",
   "execution_count": null,
   "metadata": {},
   "outputs": [],
   "source": [
    "import pickle\n",
    "\n",
    "keyword_data = set()\n",
    "with open('created_keywords.pickle', 'wb') as pickle_filename:\n",
    "    pickle.dump(keyword_data, pickle_filename)\n"
   ]
  },
  {
   "cell_type": "markdown",
   "metadata": {},
   "source": [
    "### 최종 실행\n",
    "<font color='blue'><b>1시간에 최대 1회, 하루에 최대 4번만 실행하세요. 쿠팡 파트너스 API 제약으로, 그 이상 실행할 경우, API 결과를 주지 않아서 에러가 납니다.</b></font>\n",
    "- 예: 쿠팡 파트너스 검색 API 는 1시간에 최대 10회, 해당 프로그램은 한번 실행시 10회 호출"
   ]
  },
  {
   "cell_type": "code",
   "execution_count": null,
   "metadata": {},
   "outputs": [],
   "source": [
    "keywords = get_category_popular_keyword_naver(5)\n",
    "create_blog(keywords)"
   ]
  },
  {
   "cell_type": "markdown",
   "metadata": {},
   "source": [
    "### 11. 사이트 등록"
   ]
  },
  {
   "cell_type": "markdown",
   "metadata": {},
   "source": [
    "### 11.1. 사이트 재설정\n",
    "- 자신의 username 으로 repository 를 만듬 (별도 프로젝트 폴더로 이동하지 않고, 자신의 메인 URL 로 접속하게끔 설정)\n",
    "  - 예: https://davelee-fun.github.io/ 이면, 자신의 username 은 davelee-fun 이고,\n",
    "  - repository 작성시 프로젝트 이름을 davelee-fun.github.io 이렇게 작성해줘야 함"
   ]
  },
  {
   "cell_type": "markdown",
   "metadata": {},
   "source": [
    "### 11.2. 구글 사이트 등록\n",
    "- 구글 서치 콘솔에 로그인 (구글 아이디가 있어야 함)\n",
    "  - https://search.google.com/search-console/about?hl=ko&utm_source=wmx&utm_medium=wmx-welcome\n",
    "  - 시작을 누르고 속성 추가로 가서 자신의 사이트 등록\n",
    "  - 해당 HTML 파일을 자신의 repository 에 업로드 후, 소유자 확인\n",
    "\n",
    "- 참고: https://simplewebguide.com/submit-website-to-google/\n",
    "\n",
    "\n",
    "> 최대 1주일 지난 후에 사이트가 등록됩니다."
   ]
  },
  {
   "cell_type": "markdown",
   "metadata": {},
   "source": [
    "### 11.3. 네이버 사이트 등록\n",
    "- 네이버 Search Advisor 에 로그인 (구글 아이디가 있어야 함)\n",
    "  - https://searchadvisor.naver.com/\n",
    "  - 오른쪽 상단의 웹마스터 도구 이동하고, 자신의 사이트 등록\n",
    "  - 해당 HTML 파일을 자신의 repository 에 업로드 후, 소유자 확인\n",
    "\n",
    "- 참고: https://m.blog.naver.com/PostView.nhn?blogId=anysecure3&logNo=220810796466&proxyReferer=https:%2F%2Fwww.google.com%2F"
   ]
  },
  {
   "cell_type": "markdown",
   "metadata": {},
   "source": [
    "### 11.4. 검색 성능 개선\n",
    "\n",
    "1. sitemap.xml 확인\n",
    "   - 자신의 주소/sitemap.xml\n",
    "2. robots.txt 파일 생성\n",
    "```\n",
    "User-agent: *\n",
    "Allow: /\n",
    "Sitemap: https://davelee-fun.github.io/sitemap.xml\n",
    "```"
   ]
  },
  {
   "cell_type": "markdown",
   "metadata": {},
   "source": [
    "<div class=\"alert alert-block\" style=\"border: 1px solid #FFB300;background-color:#F9FBE7;\">\n",
    "<font size=\"4em\" style=\"font-weight:bold;color:#3f8dbf;\">수고 많으셨습니다.</font><br>\n",
    "<font size=\"4em\" style=\"font-weight:bold;color:#3f8dbf;\">가능한 최선을 다해 만들었는데, 앞으로 하시는 일에 도움이 되실 것입니다.</font><br>\n",
    "<font size=\"4em\" style=\"font-weight:bold;color:#3f8dbf;\">가급적 긍정적으로 봐주시면 감사하겠습니다.</font><br>    \n",
    "</div>"
   ]
  }
 ],
 "metadata": {
  "kernelspec": {
   "display_name": "Python 3",
   "language": "python",
   "name": "python3"
  },
  "language_info": {
   "codemirror_mode": {
    "name": "ipython",
    "version": 3
   },
   "file_extension": ".py",
   "mimetype": "text/x-python",
   "name": "python",
   "nbconvert_exporter": "python",
   "pygments_lexer": "ipython3",
   "version": "3.7.7"
  }
 },
 "nbformat": 4,
 "nbformat_minor": 4
}
